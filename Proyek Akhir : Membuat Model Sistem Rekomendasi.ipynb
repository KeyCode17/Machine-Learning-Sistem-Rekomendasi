{
 "cells": [
  {
   "cell_type": "markdown",
   "metadata": {},
   "source": [
    "# Movie Recommendation System Using MovieLens 100K Dataset\n",
    "\n",
    "**Author:** Mochammad Daffa Putra Karyudi  \n",
    "\n",
    "---"
   ]
  },
  {
   "cell_type": "markdown",
   "metadata": {},
   "source": [
    "## Project Overview\n",
    "\n",
    "Di era digital saat ini, platform streaming film seperti Netflix, Hulu, dan Amazon Prime memiliki koleksi film yang sangat besar. Pengguna sering kali kesulitan menemukan film yang sesuai dengan preferensi mereka karena banyaknya pilihan yang tersedia. Oleh karena itu, sistem rekomendasi menjadi penting untuk membantu pengguna menemukan film yang mereka sukai.\n",
    "\n",
    "Proyek ini bertujuan untuk membangun sistem rekomendasi film menggunakan dataset MovieLens. Dengan sistem ini, diharapkan pengguna dapat menerima rekomendasi film yang sesuai dengan preferensi mereka, meningkatkan kepuasan pengguna, dan meningkatkan engagement pada platform.\n",
    "\n",
    "**Rubrik/Kriteria Tambahan (Opsional):**\n",
    "\n",
    "- Menyelesaikan proyek ini penting karena sistem rekomendasi dapat meningkatkan pengalaman pengguna dan loyalitas terhadap platform. Menurut [Ricci et al. (2011)](https://link.springer.com/book/10.1007/978-0-387-85820-3), sistem rekomendasi membantu mengurangi information overload dan meningkatkan kepuasan pengguna."
   ]
  },
  {
   "cell_type": "markdown",
   "metadata": {},
   "source": [
    "---"
   ]
  },
  {
   "cell_type": "markdown",
   "metadata": {},
   "source": [
    "## Business Understanding"
   ]
  },
  {
   "cell_type": "markdown",
   "metadata": {},
   "source": [
    "### Problem Statements\n",
    "\n",
    "1. **Bagaimana membangun sistem rekomendasi yang dapat memberikan saran film yang dipersonalisasi kepada pengguna?**\n",
    "2. **Algoritma apa yang paling efektif untuk digunakan dalam sistem rekomendasi film pada dataset MovieLens?**\n",
    "3. **Bagaimana cara mengevaluasi kinerja sistem rekomendasi yang dibangun?**\n",
    "\n",
    "### Goals\n",
    "\n",
    "1. **Mengembangkan sistem rekomendasi** yang dapat memberikan saran film berdasarkan preferensi pengguna.\n",
    "2. **Membandingkan beberapa algoritma rekomendasi** untuk menentukan pendekatan terbaik.\n",
    "3. **Mengevaluasi kinerja sistem rekomendasi** menggunakan metrik evaluasi yang sesuai.\n",
    "\n",
    "### Solution Statements\n",
    "\n",
    "1. **Mengimplementasikan algoritma Collaborative Filtering** (User-Based dan Item-Based).\n",
    "2. **Mengimplementasikan teknik Matrix Factorization** menggunakan **Singular Value Decomposition (SVD)**.\n",
    "3. **Mengevaluasi model** menggunakan metrik **Root Mean Square Error (RMSE)** dan **Precision@K**."
   ]
  },
  {
   "cell_type": "markdown",
   "metadata": {},
   "source": [
    "---"
   ]
  },
  {
   "cell_type": "markdown",
   "metadata": {},
   "source": [
    "# Data Understanding"
   ]
  },
  {
   "cell_type": "markdown",
   "metadata": {},
   "source": [
    "Dataset yang digunakan adalah **MovieLens 100K Dataset**, yang berisi 100.000 rating dari 943 pengguna terhadap 1.682 film. Dataset ini dapat diunduh di [MovieLens Dataset](https://grouplens.org/datasets/movielens/100k/).\n",
    "\n",
    "Variabel-variabel pada dataset MovieLens adalah sebagai berikut:\n",
    "\n",
    "- **user_id** : ID unik untuk setiap pengguna.\n",
    "- **item_id** : ID unik untuk setiap film.\n",
    "- **rating** : Rating yang diberikan pengguna (skala 1-5).\n",
    "- **timestamp** : Waktu saat rating diberikan."
   ]
  },
  {
   "cell_type": "markdown",
   "metadata": {},
   "source": [
    "## 1. Importing Libraries and Loading Data"
   ]
  },
  {
   "cell_type": "code",
   "execution_count": 17,
   "metadata": {},
   "outputs": [],
   "source": [
    "# Importing necessary libraries\n",
    "import matplotlib.pyplot as plt\n",
    "import seaborn as sns\n",
    "import pandas as pd\n",
    "import numpy as np\n",
    "\n",
    "# For modeling\n",
    "from sklearn.metrics.pairwise import cosine_similarity\n",
    "from sklearn.model_selection import train_test_split\n",
    "from sklearn.preprocessing import StandardScaler\n",
    "from sklearn.metrics import mean_squared_error\n",
    "from scipy.sparse.linalg import svds\n",
    "\n",
    "# For ignoring warnings\n",
    "import warnings\n",
    "warnings.filterwarnings('ignore')\n",
    "\n",
    "# Display settings\n",
    "pd.set_option('display.max_columns', None)"
   ]
  },
  {
   "cell_type": "code",
   "execution_count": 2,
   "metadata": {},
   "outputs": [
    {
     "name": "stdout",
     "output_type": "stream",
     "text": [
      "Ratings Data:\n"
     ]
    },
    {
     "data": {
      "text/html": [
       "<div>\n",
       "<style scoped>\n",
       "    .dataframe tbody tr th:only-of-type {\n",
       "        vertical-align: middle;\n",
       "    }\n",
       "\n",
       "    .dataframe tbody tr th {\n",
       "        vertical-align: top;\n",
       "    }\n",
       "\n",
       "    .dataframe thead th {\n",
       "        text-align: right;\n",
       "    }\n",
       "</style>\n",
       "<table border=\"1\" class=\"dataframe\">\n",
       "  <thead>\n",
       "    <tr style=\"text-align: right;\">\n",
       "      <th></th>\n",
       "      <th>user_id</th>\n",
       "      <th>item_id</th>\n",
       "      <th>rating</th>\n",
       "      <th>timestamp</th>\n",
       "    </tr>\n",
       "  </thead>\n",
       "  <tbody>\n",
       "    <tr>\n",
       "      <th>0</th>\n",
       "      <td>196</td>\n",
       "      <td>242</td>\n",
       "      <td>3</td>\n",
       "      <td>881250949</td>\n",
       "    </tr>\n",
       "    <tr>\n",
       "      <th>1</th>\n",
       "      <td>186</td>\n",
       "      <td>302</td>\n",
       "      <td>3</td>\n",
       "      <td>891717742</td>\n",
       "    </tr>\n",
       "    <tr>\n",
       "      <th>2</th>\n",
       "      <td>22</td>\n",
       "      <td>377</td>\n",
       "      <td>1</td>\n",
       "      <td>878887116</td>\n",
       "    </tr>\n",
       "    <tr>\n",
       "      <th>3</th>\n",
       "      <td>244</td>\n",
       "      <td>51</td>\n",
       "      <td>2</td>\n",
       "      <td>880606923</td>\n",
       "    </tr>\n",
       "    <tr>\n",
       "      <th>4</th>\n",
       "      <td>166</td>\n",
       "      <td>346</td>\n",
       "      <td>1</td>\n",
       "      <td>886397596</td>\n",
       "    </tr>\n",
       "  </tbody>\n",
       "</table>\n",
       "</div>"
      ],
      "text/plain": [
       "   user_id  item_id  rating  timestamp\n",
       "0      196      242       3  881250949\n",
       "1      186      302       3  891717742\n",
       "2       22      377       1  878887116\n",
       "3      244       51       2  880606923\n",
       "4      166      346       1  886397596"
      ]
     },
     "execution_count": 2,
     "metadata": {},
     "output_type": "execute_result"
    }
   ],
   "source": [
    "# Define column names\n",
    "column_names = ['user_id', 'item_id', 'rating', 'timestamp']\n",
    "\n",
    "# Load ratings data\n",
    "ratings = pd.read_csv('ml-100k/u.data', sep='\\t', names=column_names)\n",
    "\n",
    "# Load movies data\n",
    "movies = pd.read_csv('ml-100k/u.item', sep='|', encoding='latin-1', header=None, usecols=[0,1], names=['item_id', 'title'])\n",
    "\n",
    "# Display first few rows of ratings\n",
    "print(\"Ratings Data:\")\n",
    "ratings.head()\n"
   ]
  },
  {
   "cell_type": "code",
   "execution_count": 3,
   "metadata": {},
   "outputs": [
    {
     "name": "stdout",
     "output_type": "stream",
     "text": [
      "Movies Data:\n"
     ]
    },
    {
     "data": {
      "text/html": [
       "<div>\n",
       "<style scoped>\n",
       "    .dataframe tbody tr th:only-of-type {\n",
       "        vertical-align: middle;\n",
       "    }\n",
       "\n",
       "    .dataframe tbody tr th {\n",
       "        vertical-align: top;\n",
       "    }\n",
       "\n",
       "    .dataframe thead th {\n",
       "        text-align: right;\n",
       "    }\n",
       "</style>\n",
       "<table border=\"1\" class=\"dataframe\">\n",
       "  <thead>\n",
       "    <tr style=\"text-align: right;\">\n",
       "      <th></th>\n",
       "      <th>item_id</th>\n",
       "      <th>title</th>\n",
       "    </tr>\n",
       "  </thead>\n",
       "  <tbody>\n",
       "    <tr>\n",
       "      <th>0</th>\n",
       "      <td>1</td>\n",
       "      <td>Toy Story (1995)</td>\n",
       "    </tr>\n",
       "    <tr>\n",
       "      <th>1</th>\n",
       "      <td>2</td>\n",
       "      <td>GoldenEye (1995)</td>\n",
       "    </tr>\n",
       "    <tr>\n",
       "      <th>2</th>\n",
       "      <td>3</td>\n",
       "      <td>Four Rooms (1995)</td>\n",
       "    </tr>\n",
       "    <tr>\n",
       "      <th>3</th>\n",
       "      <td>4</td>\n",
       "      <td>Get Shorty (1995)</td>\n",
       "    </tr>\n",
       "    <tr>\n",
       "      <th>4</th>\n",
       "      <td>5</td>\n",
       "      <td>Copycat (1995)</td>\n",
       "    </tr>\n",
       "  </tbody>\n",
       "</table>\n",
       "</div>"
      ],
      "text/plain": [
       "   item_id              title\n",
       "0        1   Toy Story (1995)\n",
       "1        2   GoldenEye (1995)\n",
       "2        3  Four Rooms (1995)\n",
       "3        4  Get Shorty (1995)\n",
       "4        5     Copycat (1995)"
      ]
     },
     "execution_count": 3,
     "metadata": {},
     "output_type": "execute_result"
    }
   ],
   "source": [
    "# Display first few rows of movies\n",
    "print(\"Movies Data:\")\n",
    "movies.head()"
   ]
  },
  {
   "cell_type": "markdown",
   "metadata": {},
   "source": [
    "## 2. Data Overview"
   ]
  },
  {
   "cell_type": "code",
   "execution_count": 4,
   "metadata": {},
   "outputs": [
    {
     "name": "stdout",
     "output_type": "stream",
     "text": [
      "Ratings Data Info:\n",
      "<class 'pandas.core.frame.DataFrame'>\n",
      "RangeIndex: 100000 entries, 0 to 99999\n",
      "Data columns (total 4 columns):\n",
      " #   Column     Non-Null Count   Dtype\n",
      "---  ------     --------------   -----\n",
      " 0   user_id    100000 non-null  int64\n",
      " 1   item_id    100000 non-null  int64\n",
      " 2   rating     100000 non-null  int64\n",
      " 3   timestamp  100000 non-null  int64\n",
      "dtypes: int64(4)\n",
      "memory usage: 3.1 MB\n"
     ]
    }
   ],
   "source": [
    "# Basic information about ratings\n",
    "print(\"Ratings Data Info:\")\n",
    "ratings.info()\n"
   ]
  },
  {
   "cell_type": "code",
   "execution_count": 5,
   "metadata": {},
   "outputs": [
    {
     "name": "stdout",
     "output_type": "stream",
     "text": [
      "\n",
      "Movies Data Info:\n",
      "<class 'pandas.core.frame.DataFrame'>\n",
      "RangeIndex: 1682 entries, 0 to 1681\n",
      "Data columns (total 2 columns):\n",
      " #   Column   Non-Null Count  Dtype \n",
      "---  ------   --------------  ----- \n",
      " 0   item_id  1682 non-null   int64 \n",
      " 1   title    1682 non-null   object\n",
      "dtypes: int64(1), object(1)\n",
      "memory usage: 26.4+ KB\n"
     ]
    }
   ],
   "source": [
    "# Basic information about movies\n",
    "print(\"\\nMovies Data Info:\")\n",
    "movies.info()"
   ]
  },
  {
   "cell_type": "code",
   "execution_count": 6,
   "metadata": {},
   "outputs": [
    {
     "name": "stdout",
     "output_type": "stream",
     "text": [
      "\n",
      "Descriptive Statistics for Ratings:\n"
     ]
    },
    {
     "data": {
      "text/html": [
       "<div>\n",
       "<style scoped>\n",
       "    .dataframe tbody tr th:only-of-type {\n",
       "        vertical-align: middle;\n",
       "    }\n",
       "\n",
       "    .dataframe tbody tr th {\n",
       "        vertical-align: top;\n",
       "    }\n",
       "\n",
       "    .dataframe thead th {\n",
       "        text-align: right;\n",
       "    }\n",
       "</style>\n",
       "<table border=\"1\" class=\"dataframe\">\n",
       "  <thead>\n",
       "    <tr style=\"text-align: right;\">\n",
       "      <th></th>\n",
       "      <th>user_id</th>\n",
       "      <th>item_id</th>\n",
       "      <th>rating</th>\n",
       "      <th>timestamp</th>\n",
       "    </tr>\n",
       "  </thead>\n",
       "  <tbody>\n",
       "    <tr>\n",
       "      <th>count</th>\n",
       "      <td>100000.00000</td>\n",
       "      <td>100000.000000</td>\n",
       "      <td>100000.000000</td>\n",
       "      <td>1.000000e+05</td>\n",
       "    </tr>\n",
       "    <tr>\n",
       "      <th>mean</th>\n",
       "      <td>462.48475</td>\n",
       "      <td>425.530130</td>\n",
       "      <td>3.529860</td>\n",
       "      <td>8.835289e+08</td>\n",
       "    </tr>\n",
       "    <tr>\n",
       "      <th>std</th>\n",
       "      <td>266.61442</td>\n",
       "      <td>330.798356</td>\n",
       "      <td>1.125674</td>\n",
       "      <td>5.343856e+06</td>\n",
       "    </tr>\n",
       "    <tr>\n",
       "      <th>min</th>\n",
       "      <td>1.00000</td>\n",
       "      <td>1.000000</td>\n",
       "      <td>1.000000</td>\n",
       "      <td>8.747247e+08</td>\n",
       "    </tr>\n",
       "    <tr>\n",
       "      <th>25%</th>\n",
       "      <td>254.00000</td>\n",
       "      <td>175.000000</td>\n",
       "      <td>3.000000</td>\n",
       "      <td>8.794487e+08</td>\n",
       "    </tr>\n",
       "    <tr>\n",
       "      <th>50%</th>\n",
       "      <td>447.00000</td>\n",
       "      <td>322.000000</td>\n",
       "      <td>4.000000</td>\n",
       "      <td>8.828269e+08</td>\n",
       "    </tr>\n",
       "    <tr>\n",
       "      <th>75%</th>\n",
       "      <td>682.00000</td>\n",
       "      <td>631.000000</td>\n",
       "      <td>4.000000</td>\n",
       "      <td>8.882600e+08</td>\n",
       "    </tr>\n",
       "    <tr>\n",
       "      <th>max</th>\n",
       "      <td>943.00000</td>\n",
       "      <td>1682.000000</td>\n",
       "      <td>5.000000</td>\n",
       "      <td>8.932866e+08</td>\n",
       "    </tr>\n",
       "  </tbody>\n",
       "</table>\n",
       "</div>"
      ],
      "text/plain": [
       "            user_id        item_id         rating     timestamp\n",
       "count  100000.00000  100000.000000  100000.000000  1.000000e+05\n",
       "mean      462.48475     425.530130       3.529860  8.835289e+08\n",
       "std       266.61442     330.798356       1.125674  5.343856e+06\n",
       "min         1.00000       1.000000       1.000000  8.747247e+08\n",
       "25%       254.00000     175.000000       3.000000  8.794487e+08\n",
       "50%       447.00000     322.000000       4.000000  8.828269e+08\n",
       "75%       682.00000     631.000000       4.000000  8.882600e+08\n",
       "max       943.00000    1682.000000       5.000000  8.932866e+08"
      ]
     },
     "execution_count": 6,
     "metadata": {},
     "output_type": "execute_result"
    }
   ],
   "source": [
    "# Descriptive statistics for ratings\n",
    "print(\"\\nDescriptive Statistics for Ratings:\")\n",
    "ratings.describe()"
   ]
  },
  {
   "cell_type": "markdown",
   "metadata": {},
   "source": [
    "## 3. Checking for Missing Values"
   ]
  },
  {
   "cell_type": "code",
   "execution_count": 7,
   "metadata": {},
   "outputs": [
    {
     "name": "stdout",
     "output_type": "stream",
     "text": [
      "Missing Values in Ratings:\n",
      "user_id      0\n",
      "item_id      0\n",
      "rating       0\n",
      "timestamp    0\n",
      "dtype: int64\n"
     ]
    }
   ],
   "source": [
    "# Check for missing values in ratings\n",
    "print(\"Missing Values in Ratings:\")\n",
    "print(ratings.isnull().sum())\n"
   ]
  },
  {
   "cell_type": "code",
   "execution_count": 8,
   "metadata": {},
   "outputs": [
    {
     "name": "stdout",
     "output_type": "stream",
     "text": [
      "\n",
      "Missing Values in Movies:\n",
      "item_id    0\n",
      "title      0\n",
      "dtype: int64\n"
     ]
    }
   ],
   "source": [
    "# Check for missing values in movies\n",
    "print(\"\\nMissing Values in Movies:\")\n",
    "print(movies.isnull().sum())"
   ]
  },
  {
   "cell_type": "markdown",
   "metadata": {},
   "source": [
    "## 4. Distribution of Ratings"
   ]
  },
  {
   "cell_type": "code",
   "execution_count": 9,
   "metadata": {},
   "outputs": [
    {
     "data": {
      "image/png": "[encoded data removed]",
      "text/plain": [
       "<Figure size 800x600 with 1 Axes>"
      ]
     },
     "metadata": {},
     "output_type": "display_data"
    }
   ],
   "source": [
    "# Visualisasi distribusi rating\n",
    "plt.figure(figsize=(8,6))\n",
    "sns.countplot(x='rating', data=ratings, palette='viridis')\n",
    "plt.title('Distribusi Rating')\n",
    "plt.xlabel('Rating')\n",
    "plt.ylabel('Frekuensi')\n",
    "plt.show()\n"
   ]
  },
  {
   "cell_type": "markdown",
   "metadata": {},
   "source": [
    "Insight: Mayoritas pengguna memberikan rating tertinggi pada angka 4 dan 3, menunjukkan bahwa penilaian film cenderung berada di tengah hingga positif. Hal ini mungkin mencerminkan preferensi pengguna yang lebih bijaksana atau adanya variasi dalam kualitas film yang ditonton."
   ]
  },
  {
   "cell_type": "markdown",
   "metadata": {},
   "source": [
    "## 5. Film Terpopuler"
   ]
  },
  {
   "cell_type": "code",
   "execution_count": 10,
   "metadata": {},
   "outputs": [
    {
     "name": "stdout",
     "output_type": "stream",
     "text": [
      "10 Film Terpopuler:\n"
     ]
    },
    {
     "data": {
      "text/html": [
       "<div>\n",
       "<style scoped>\n",
       "    .dataframe tbody tr th:only-of-type {\n",
       "        vertical-align: middle;\n",
       "    }\n",
       "\n",
       "    .dataframe tbody tr th {\n",
       "        vertical-align: top;\n",
       "    }\n",
       "\n",
       "    .dataframe thead th {\n",
       "        text-align: right;\n",
       "    }\n",
       "</style>\n",
       "<table border=\"1\" class=\"dataframe\">\n",
       "  <thead>\n",
       "    <tr style=\"text-align: right;\">\n",
       "      <th></th>\n",
       "      <th>item_id</th>\n",
       "      <th>rating_count</th>\n",
       "      <th>title</th>\n",
       "    </tr>\n",
       "  </thead>\n",
       "  <tbody>\n",
       "    <tr>\n",
       "      <th>0</th>\n",
       "      <td>50</td>\n",
       "      <td>583</td>\n",
       "      <td>Star Wars (1977)</td>\n",
       "    </tr>\n",
       "    <tr>\n",
       "      <th>1</th>\n",
       "      <td>258</td>\n",
       "      <td>509</td>\n",
       "      <td>Contact (1997)</td>\n",
       "    </tr>\n",
       "    <tr>\n",
       "      <th>2</th>\n",
       "      <td>100</td>\n",
       "      <td>508</td>\n",
       "      <td>Fargo (1996)</td>\n",
       "    </tr>\n",
       "    <tr>\n",
       "      <th>3</th>\n",
       "      <td>181</td>\n",
       "      <td>507</td>\n",
       "      <td>Return of the Jedi (1983)</td>\n",
       "    </tr>\n",
       "    <tr>\n",
       "      <th>4</th>\n",
       "      <td>294</td>\n",
       "      <td>485</td>\n",
       "      <td>Liar Liar (1997)</td>\n",
       "    </tr>\n",
       "    <tr>\n",
       "      <th>5</th>\n",
       "      <td>286</td>\n",
       "      <td>481</td>\n",
       "      <td>English Patient, The (1996)</td>\n",
       "    </tr>\n",
       "    <tr>\n",
       "      <th>6</th>\n",
       "      <td>288</td>\n",
       "      <td>478</td>\n",
       "      <td>Scream (1996)</td>\n",
       "    </tr>\n",
       "    <tr>\n",
       "      <th>7</th>\n",
       "      <td>1</td>\n",
       "      <td>452</td>\n",
       "      <td>Toy Story (1995)</td>\n",
       "    </tr>\n",
       "    <tr>\n",
       "      <th>8</th>\n",
       "      <td>300</td>\n",
       "      <td>431</td>\n",
       "      <td>Air Force One (1997)</td>\n",
       "    </tr>\n",
       "    <tr>\n",
       "      <th>9</th>\n",
       "      <td>121</td>\n",
       "      <td>429</td>\n",
       "      <td>Independence Day (ID4) (1996)</td>\n",
       "    </tr>\n",
       "  </tbody>\n",
       "</table>\n",
       "</div>"
      ],
      "text/plain": [
       "   item_id  rating_count                          title\n",
       "0       50           583               Star Wars (1977)\n",
       "1      258           509                 Contact (1997)\n",
       "2      100           508                   Fargo (1996)\n",
       "3      181           507      Return of the Jedi (1983)\n",
       "4      294           485               Liar Liar (1997)\n",
       "5      286           481    English Patient, The (1996)\n",
       "6      288           478                  Scream (1996)\n",
       "7        1           452               Toy Story (1995)\n",
       "8      300           431           Air Force One (1997)\n",
       "9      121           429  Independence Day (ID4) (1996)"
      ]
     },
     "execution_count": 10,
     "metadata": {},
     "output_type": "execute_result"
    }
   ],
   "source": [
    "# Menghitung jumlah rating per film\n",
    "movie_counts = ratings.groupby('item_id').size().sort_values(ascending=False)\n",
    "\n",
    "# Menggabungkan dengan judul film\n",
    "movie_counts = movie_counts.reset_index()\n",
    "movie_counts.columns = ['item_id', 'rating_count']\n",
    "movie_counts = pd.merge(movie_counts, movies, on='item_id')\n",
    "\n",
    "# Menampilkan 10 film teratas\n",
    "print(\"10 Film Terpopuler:\")\n",
    "movie_counts.head(10)\n"
   ]
  },
  {
   "cell_type": "code",
   "execution_count": 11,
   "metadata": {},
   "outputs": [
    {
     "data": {
      "image/png": "[encoded data removed]",
      "text/plain": [
       "<Figure size 1200x800 with 1 Axes>"
      ]
     },
     "metadata": {},
     "output_type": "display_data"
    }
   ],
   "source": [
    "# Visualisasi 10 film terpopuler\n",
    "plt.figure(figsize=(12,8))\n",
    "sns.barplot(x='rating_count', y='title', data=movie_counts.head(10), palette='magma')\n",
    "plt.title('10 Film Terpopuler')\n",
    "plt.xlabel('Jumlah Rating')\n",
    "plt.ylabel('Judul Film')\n",
    "plt.show()\n"
   ]
  },
  {
   "cell_type": "markdown",
   "metadata": {},
   "source": [
    "Insight: Beberapa film menerima lebih banyak perhatian, yang bisa mempengaruhi model rekomendasi. Film dengan jumlah rating tinggi mungkin lebih dikenal dan diminati oleh pengguna."
   ]
  },
  {
   "cell_type": "markdown",
   "metadata": {},
   "source": [
    "---"
   ]
  },
  {
   "cell_type": "markdown",
   "metadata": {},
   "source": [
    "# Data Preparation"
   ]
  },
  {
   "cell_type": "markdown",
   "metadata": {},
   "source": [
    "Langkah-langkah data preparation yang dilakukan:\n",
    "\n",
    "Merging Data: Menggabungkan data rating dengan data film untuk mendapatkan informasi lengkap.\n",
    "Membuat User-Item Matrix: Membuat matriks interaksi pengguna dengan item (film) yang akan digunakan sebagai input untuk algoritma rekomendasi.\n",
    "Normalisasi Data: Melakukan normalisasi data untuk menghilangkan bias rating antar pengguna."
   ]
  },
  {
   "cell_type": "markdown",
   "metadata": {},
   "source": [
    "## 1. Merging Data"
   ]
  },
  {
   "cell_type": "code",
   "execution_count": 12,
   "metadata": {},
   "outputs": [
    {
     "data": {
      "text/html": [
       "<div>\n",
       "<style scoped>\n",
       "    .dataframe tbody tr th:only-of-type {\n",
       "        vertical-align: middle;\n",
       "    }\n",
       "\n",
       "    .dataframe tbody tr th {\n",
       "        vertical-align: top;\n",
       "    }\n",
       "\n",
       "    .dataframe thead th {\n",
       "        text-align: right;\n",
       "    }\n",
       "</style>\n",
       "<table border=\"1\" class=\"dataframe\">\n",
       "  <thead>\n",
       "    <tr style=\"text-align: right;\">\n",
       "      <th></th>\n",
       "      <th>user_id</th>\n",
       "      <th>item_id</th>\n",
       "      <th>rating</th>\n",
       "      <th>timestamp</th>\n",
       "      <th>title</th>\n",
       "    </tr>\n",
       "  </thead>\n",
       "  <tbody>\n",
       "    <tr>\n",
       "      <th>0</th>\n",
       "      <td>196</td>\n",
       "      <td>242</td>\n",
       "      <td>3</td>\n",
       "      <td>881250949</td>\n",
       "      <td>Kolya (1996)</td>\n",
       "    </tr>\n",
       "    <tr>\n",
       "      <th>1</th>\n",
       "      <td>63</td>\n",
       "      <td>242</td>\n",
       "      <td>3</td>\n",
       "      <td>875747190</td>\n",
       "      <td>Kolya (1996)</td>\n",
       "    </tr>\n",
       "    <tr>\n",
       "      <th>2</th>\n",
       "      <td>226</td>\n",
       "      <td>242</td>\n",
       "      <td>5</td>\n",
       "      <td>883888671</td>\n",
       "      <td>Kolya (1996)</td>\n",
       "    </tr>\n",
       "    <tr>\n",
       "      <th>3</th>\n",
       "      <td>154</td>\n",
       "      <td>242</td>\n",
       "      <td>3</td>\n",
       "      <td>879138235</td>\n",
       "      <td>Kolya (1996)</td>\n",
       "    </tr>\n",
       "    <tr>\n",
       "      <th>4</th>\n",
       "      <td>306</td>\n",
       "      <td>242</td>\n",
       "      <td>5</td>\n",
       "      <td>876503793</td>\n",
       "      <td>Kolya (1996)</td>\n",
       "    </tr>\n",
       "  </tbody>\n",
       "</table>\n",
       "</div>"
      ],
      "text/plain": [
       "   user_id  item_id  rating  timestamp         title\n",
       "0      196      242       3  881250949  Kolya (1996)\n",
       "1       63      242       3  875747190  Kolya (1996)\n",
       "2      226      242       5  883888671  Kolya (1996)\n",
       "3      154      242       3  879138235  Kolya (1996)\n",
       "4      306      242       5  876503793  Kolya (1996)"
      ]
     },
     "execution_count": 12,
     "metadata": {},
     "output_type": "execute_result"
    }
   ],
   "source": [
    "# Menggabungkan data ratings dengan judul film\n",
    "ratings = pd.merge(ratings, movies, on='item_id')\n",
    "\n",
    "# Menampilkan data setelah penggabungan\n",
    "ratings.head()"
   ]
  },
  {
   "cell_type": "markdown",
   "metadata": {},
   "source": [
    "## 2.Data Splitting"
   ]
  },
  {
   "cell_type": "code",
   "execution_count": 13,
   "metadata": {},
   "outputs": [],
   "source": [
    "# Fungsi untuk membagi data per pengguna\n",
    "def train_test_split_per_user(ratings, test_size=0.2, min_ratings=5, random_state=42):\n",
    "    train_list = []\n",
    "    test_list = []\n",
    "    \n",
    "    for user, group in ratings.groupby('user_id'):\n",
    "        if len(group) >= min_ratings:\n",
    "            train_grp, test_grp = train_test_split(\n",
    "                group, test_size=test_size, random_state=random_state\n",
    "            )\n",
    "            train_list.append(train_grp)\n",
    "            test_list.append(test_grp)\n",
    "        else:\n",
    "            # Menugaskan semua rating ke training jika jumlah rating kurang dari min_ratings\n",
    "            train_list.append(group)\n",
    "    \n",
    "    train_data = pd.concat(train_list).reset_index(drop=True)\n",
    "    test_data = pd.concat(test_list).reset_index(drop=True)\n",
    "    \n",
    "    return train_data, test_data"
   ]
  },
  {
   "cell_type": "code",
   "execution_count": 14,
   "metadata": {},
   "outputs": [],
   "source": [
    "train_data, test_data = train_test_split_per_user(ratings, test_size=0.2, min_ratings=5, random_state=42)\n"
   ]
  },
  {
   "cell_type": "markdown",
   "metadata": {},
   "source": [
    "## 3. Membuat User-Item Matrix"
   ]
  },
  {
   "cell_type": "code",
   "execution_count": 15,
   "metadata": {},
   "outputs": [],
   "source": [
    "# Membuat Matriks User-Item untuk Training dan Testing\n",
    "train_matrix = train_data.pivot_table(index='user_id', columns='title', values='rating').fillna(0)\n",
    "test_matrix = test_data.pivot_table(index='user_id', columns='title', values='rating').fillna(0)"
   ]
  },
  {
   "cell_type": "markdown",
   "metadata": {},
   "source": [
    "## 4. Normalisasi Data"
   ]
  },
  {
   "cell_type": "code",
   "execution_count": 18,
   "metadata": {},
   "outputs": [],
   "source": [
    "# Melakukan Normalisasi pada Matriks Training\n",
    "scaler = StandardScaler()\n",
    "train_matrix_scaled = scaler.fit_transform(train_matrix)\n",
    "\n",
    "# Mengubah kembali matriks yang sudah diskalakan menjadi DataFrame\n",
    "train_matrix_scaled = pd.DataFrame(train_matrix_scaled, index=train_matrix.index, columns=train_matrix.columns)\n",
    "\n",
    "# Menjamin bahwa matriks testing memiliki kolom yang sama dengan matriks training\n",
    "test_matrix = test_matrix.reindex(columns=train_matrix.columns, fill_value=0)"
   ]
  },
  {
   "cell_type": "markdown",
   "metadata": {},
   "source": [
    "---\n",
    "\n",
    "# Modeling"
   ]
  },
  {
   "cell_type": "markdown",
   "metadata": {},
   "source": [
    "## 1. Collaborative Filtering"
   ]
  },
  {
   "cell_type": "markdown",
   "metadata": {},
   "source": [
    "### User-Based Collaborative Filtering"
   ]
  },
  {
   "cell_type": "code",
   "execution_count": 31,
   "metadata": {},
   "outputs": [],
   "source": [
    "user_similarity = cosine_similarity(train_matrix_scaled)\n",
    "user_similarity_df = pd.DataFrame(user_similarity, index=train_matrix_scaled.index, columns=train_matrix_scaled.index)\n",
    "\n",
    "def user_based_recommendations(user_id, num_recommendations=5):\n",
    "    if user_id not in user_similarity_df.index:\n",
    "        print(f\"User ID {user_id} not found in similarity matrix.\")\n",
    "        return []\n",
    "    \n",
    "    # Mendapatkan skor kesamaan untuk pengguna\n",
    "    similar_users = user_similarity_df.loc[user_id].sort_values(ascending=False)\n",
    "    \n",
    "    # Menghapus pengguna itu sendiri dari daftar pengguna serupa\n",
    "    similar_users = similar_users.drop(user_id, errors='ignore')\n",
    "    \n",
    "    # Mendapatkan rating pengguna serupa\n",
    "    similar_users_ratings = train_matrix.loc[similar_users.index]\n",
    "    \n",
    "    # Menghitung jumlah bobot dari kesamaan\n",
    "    sum_of_weights = similar_users.sum()\n",
    "    \n",
    "    if sum_of_weights == 0:\n",
    "        return []\n",
    "    \n",
    "    # Memperkirakan rating\n",
    "    pred_ratings = similar_users_ratings.T.dot(similar_users) / sum_of_weights\n",
    "    \n",
    "    # Mengambil film yang belum diberi rating oleh pengguna\n",
    "    user_rated = train_matrix.loc[user_id]\n",
    "    recommendations = pred_ratings[user_rated == 0].sort_values(ascending=False).head(num_recommendations)\n",
    "    \n",
    "    return recommendations.index.tolist()"
   ]
  },
  {
   "cell_type": "markdown",
   "metadata": {},
   "source": [
    "## 2. Matrix Factorization (SVD)"
   ]
  },
  {
   "cell_type": "code",
   "execution_count": 46,
   "metadata": {},
   "outputs": [],
   "source": [
    "# Perform SVD\n",
    "k = 50\n",
    "train_matrix_scaled_np = train_matrix_scaled.to_numpy()\n",
    "U, sigma, Vt = svds(train_matrix_scaled_np, k=k)\n",
    "sigma = np.diag(sigma)\n",
    "all_user_predicted_ratings = np.dot(np.dot(U, sigma), Vt)\n",
    "preds_df = pd.DataFrame(all_user_predicted_ratings, columns=train_matrix.columns, index=train_matrix.index)\n",
    "\n",
    "def svd_recommendations(user_id, num_recommendations=5):\n",
    "    if user_id not in preds_df.index:\n",
    "        print(f\"User ID {user_id} not found in SVD predictions.\")\n",
    "        return []\n",
    "    \n",
    "    # Mendapatkan dan mengurutkan rating prediksi pengguna\n",
    "    user_predictions = preds_df.loc[user_id].sort_values(ascending=False)\n",
    "    \n",
    "    # Mendapatkan rating aktual pengguna\n",
    "    user_actual = train_matrix.loc[user_id]\n",
    "    \n",
    "    # Merekomendasikan film yang belum diberi rating\n",
    "    recommendations = user_predictions[user_actual == 0].head(num_recommendations)\n",
    "    \n",
    "    return recommendations.index.tolist()"
   ]
  },
  {
   "cell_type": "markdown",
   "metadata": {},
   "source": [
    "**Kelebihan dan Kekurangan**:\n",
    "\n",
    "- **Collaborative Filtering**:\n",
    "  - *Kelebihan*: Mudah diimplementasikan, tidak memerlukan data fitur item.\n",
    "  - *Kekurangan*: Masalah data sparsity dan cold-start problem.\n",
    "\n",
    "- **Matrix Factorization (SVD)**:\n",
    "  - *Kelebihan*: Mengatasi sparsity, menangkap hubungan laten antar pengguna dan item.\n",
    "  - *Kekurangan*: Lebih kompleks dan membutuhkan sumber daya komputasi lebih besar.\n",
    "---"
   ]
  },
  {
   "cell_type": "markdown",
   "metadata": {},
   "source": [
    "# Evaluation\n"
   ]
  },
  {
   "cell_type": "markdown",
   "metadata": {},
   "source": [
    "## Evaluation Metrics\n",
    "\n",
    "1. **Root Mean Square Error (RMSE)**: Mengukur perbedaan antara nilai yang diprediksi dan aktual.\n",
    "\n",
    "   $$\n",
    "   RMSE = \\sqrt{\\frac{1}{N} \\sum_{i=1}^{N} (y_i - \\hat{y}_i)^2}\n",
    "   $$\n",
    "\n",
    "2. **Precision@K**: Proporsi item yang relevan dalam top-K rekomendasi.\n",
    "\n",
    "   $$\n",
    "   Precision@K = \\frac{\\text{Jumlah item relevan dalam K rekomendasi}}{K}\n",
    "   $$\n",
    "\n",
    "3. **Recall@K**: Proporsi item relevan yang berhasil direkomendasikan dalam top-K.\n",
    "\n",
    "   $$\n",
    "   Recall@K = \\frac{\\text{Jumlah item relevan dalam K rekomendasi}}{\\text{Total item relevan}}\n",
    "   $$"
   ]
  },
  {
   "cell_type": "markdown",
   "metadata": {},
   "source": [
    "### 1. Menghitung RMSE"
   ]
  },
  {
   "cell_type": "code",
   "execution_count": 47,
   "metadata": {},
   "outputs": [],
   "source": [
    "def calculate_rmse(actual, predicted):\n",
    "    return np.sqrt(mean_squared_error(actual, predicted))"
   ]
  },
  {
   "cell_type": "markdown",
   "metadata": {},
   "source": [
    "### 2. Menghitung Precision@K"
   ]
  },
  {
   "cell_type": "code",
   "execution_count": 48,
   "metadata": {},
   "outputs": [],
   "source": [
    "# Fungsi untuk menghitung Precision@K\n",
    "def precision_at_k(actual, predicted, k=5):\n",
    "    actual_set = set(actual)\n",
    "    predicted_set = set(predicted[:k])\n",
    "    return len(actual_set & predicted_set) / k"
   ]
  },
  {
   "cell_type": "markdown",
   "metadata": {},
   "source": [
    "### 3. Menghitung Recall@K"
   ]
  },
  {
   "cell_type": "code",
   "execution_count": 49,
   "metadata": {},
   "outputs": [],
   "source": [
    "def recall_at_k(actual, predicted, k=5):\n",
    "    actual_set = set(actual)\n",
    "    predicted_set = set(predicted[:k])\n",
    "    return len(actual_set & predicted_set) / len(actual_set) if len(actual_set) > 0 else 0"
   ]
  },
  {
   "cell_type": "markdown",
   "metadata": {},
   "source": [
    "### 4. Memprediksi Rating"
   ]
  },
  {
   "cell_type": "code",
   "execution_count": 50,
   "metadata": {},
   "outputs": [],
   "source": [
    "# Prediksi Rating Berdasarkan User-Based Collaborative Filtering\n",
    "def user_based_predict_rating(user_id, movie_title):\n",
    "    if user_id not in user_similarity_df.index:\n",
    "        print(f\"User ID {user_id} tidak ditemukan di matriks kesamaan.\")\n",
    "        return 0  # Atau nilai default lainnya\n",
    "    \n",
    "    if movie_title not in train_matrix.columns:\n",
    "        print(f\"Judul film '{movie_title}' tidak ditemukan di matriks training.\")\n",
    "        return 0  # Atau nilai default lainnya\n",
    "    \n",
    "    # Mendapatkan skor kesamaan untuk pengguna\n",
    "    similar_users = user_similarity_df.loc[user_id].sort_values(ascending=False)\n",
    "    \n",
    "    # Menghapus pengguna itu sendiri\n",
    "    similar_users = similar_users.drop(user_id, errors='ignore')\n",
    "    \n",
    "    # Mendapatkan rating untuk film target dari pengguna serupa\n",
    "    similar_users_ratings = train_matrix.loc[similar_users.index, movie_title]\n",
    "    \n",
    "    # Mendapatkan skor kesamaan pengguna serupa\n",
    "    similarity_scores = similar_users\n",
    "    \n",
    "    # Menghitung rata-rata tertimbang\n",
    "    if similarity_scores.sum() == 0:\n",
    "        return 0  # Menghindari pembagian dengan nol\n",
    "    predicted_rating = np.dot(similarity_scores, similar_users_ratings) / similarity_scores.sum()\n",
    "    \n",
    "    return predicted_rating"
   ]
  },
  {
   "cell_type": "markdown",
   "metadata": {},
   "source": [
    "### 5. Evaluate"
   ]
  },
  {
   "cell_type": "code",
   "execution_count": 51,
   "metadata": {},
   "outputs": [],
   "source": [
    "# Inisialisasi daftar untuk menyimpan metrik evaluasi\n",
    "rmse_svd = []\n",
    "precision_svd = []\n",
    "recall_svd = []\n",
    "\n",
    "rmse_cf = []\n",
    "precision_cf = []\n",
    "recall_cf = []\n",
    "\n",
    "# Iterasi melalui setiap pengguna di matriks testing\n",
    "for user in test_matrix.index:\n",
    "    try:\n",
    "        # Mendapatkan rating aktual untuk pengguna di testing set\n",
    "        actual_ratings = test_matrix.loc[user]\n",
    "        actual_movies = actual_ratings[actual_ratings > 0].index.tolist()\n",
    "        \n",
    "        if not actual_movies:\n",
    "            continue  # Melewati pengguna tanpa rating di testing set\n",
    "        \n",
    "        # Mendapatkan rekomendasi dari SVD\n",
    "        svd_recommended = svd_recommendations(user, num_recommendations=5)\n",
    "        \n",
    "        # Mendapatkan rekomendasi dari User-Based Collaborative Filtering\n",
    "        cf_recommended = user_based_recommendations(user, num_recommendations=5)\n",
    "        \n",
    "        # Menghitung RMSE untuk SVD\n",
    "        svd_predicted = preds_df.loc[user, actual_movies]\n",
    "        svd_actual = test_matrix.loc[user, actual_movies]\n",
    "        rmse_svd.append(calculate_rmse(svd_actual, svd_predicted))\n",
    "        \n",
    "        # Menghitung RMSE untuk User-Based Collaborative Filtering\n",
    "        cf_predicted_ratings = [user_based_predict_rating(user, movie) for movie in actual_movies]\n",
    "        cf_actual_ratings = test_matrix.loc[user, actual_movies].values\n",
    "        rmse_cf.append(calculate_rmse(cf_actual_ratings, cf_predicted_ratings))\n",
    "        \n",
    "        # Menghitung Precision@5 dan Recall@5 untuk SVD\n",
    "        precision_svd.append(precision_at_k(actual_movies, svd_recommended, k=5))\n",
    "        recall_svd.append(recall_at_k(actual_movies, svd_recommended, k=5))\n",
    "        \n",
    "        # Menghitung Precision@5 dan Recall@5 untuk User-Based Collaborative Filtering\n",
    "        precision_cf.append(precision_at_k(actual_movies, cf_recommended, k=5))\n",
    "        recall_cf.append(recall_at_k(actual_movies, cf_recommended, k=5))\n",
    "    \n",
    "    except KeyError as e:\n",
    "        print(f\"KeyError for user_id {user}: {e}\")\n",
    "        continue\n",
    "    except Exception as e:\n",
    "        print(f\"Unexpected error for user_id {user}: {e}\")\n",
    "        continue"
   ]
  },
  {
   "cell_type": "code",
   "execution_count": 52,
   "metadata": {},
   "outputs": [
    {
     "name": "stdout",
     "output_type": "stream",
     "text": [
      "Hasil Evaluasi\n",
      "\n",
      "- Collaborative Filtering (User-Based):\n",
      "  - RMSE: 4.18\n",
      "  - Precision@5: 0.18\n",
      "  - Recall@5: 0.08\n",
      "\n",
      "- Matrix Factorization (SVD):\n",
      "  - RMSE: 3.50\n",
      "  - Precision@5: 0.14\n",
      "  - Recall@5: 0.04\n"
     ]
    }
   ],
   "source": [
    "# Menghitung rata-rata metrik evaluasi untuk SVD\n",
    "avg_rmse_svd = np.mean(rmse_svd) if rmse_svd else float('nan')\n",
    "avg_precision_svd = np.mean(precision_svd) if precision_svd else float('nan')\n",
    "avg_recall_svd = np.mean(recall_svd) if recall_svd else float('nan')\n",
    "\n",
    "# Menghitung rata-rata metrik evaluasi untuk User-Based Collaborative Filtering\n",
    "avg_rmse_cf = np.mean(rmse_cf) if rmse_cf else float('nan')\n",
    "avg_precision_cf = np.mean(precision_cf) if precision_cf else float('nan')\n",
    "avg_recall_cf = np.mean(recall_cf) if recall_cf else float('nan')\n",
    "\n",
    "# Menampilkan hasil evaluasi\n",
    "print(\"Hasil Evaluasi\\n\")\n",
    "print(\"- Collaborative Filtering (User-Based):\")\n",
    "print(f\"  - RMSE: {avg_rmse_cf:.2f}\")\n",
    "print(f\"  - Precision@5: {avg_precision_cf:.2f}\")\n",
    "print(f\"  - Recall@5: {avg_recall_cf:.2f}\\n\")\n",
    "\n",
    "print(\"- Matrix Factorization (SVD):\")\n",
    "print(f\"  - RMSE: {avg_rmse_svd:.2f}\")\n",
    "print(f\"  - Precision@5: {avg_precision_svd:.2f}\")\n",
    "print(f\"  - Recall@5: {avg_recall_svd:.2f}\")"
   ]
  }
 ],
 "metadata": {
  "kernelspec": {
   "display_name": "tesGPU",
   "language": "python",
   "name": "python3"
  },
  "language_info": {
   "codemirror_mode": {
    "name": "ipython",
    "version": 3
   },
   "file_extension": ".py",
   "mimetype": "text/x-python",
   "name": "python",
   "nbconvert_exporter": "python",
   "pygments_lexer": "ipython3",
   "version": "3.9.19"
  }
 },
 "nbformat": 4,
 "nbformat_minor": 2
}
